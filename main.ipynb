{
 "cells": [
  {
   "cell_type": "code",
   "execution_count": 118,
   "metadata": {},
   "outputs": [],
   "source": [
    "import warnings\n",
    "warnings.filterwarnings('ignore')"
   ]
  },
  {
   "cell_type": "markdown",
   "metadata": {},
   "source": [
    "https://arxiv.org/pdf/2308.04419.pdf"
   ]
  },
  {
   "cell_type": "code",
   "execution_count": 119,
   "metadata": {},
   "outputs": [],
   "source": [
    "import yfinance as yf\n",
    "import pandas as pd\n",
    "import numpy as np"
   ]
  },
  {
   "cell_type": "code",
   "execution_count": 120,
   "metadata": {},
   "outputs": [],
   "source": [
    "input_length = 10\n",
    "target_length = 1"
   ]
  },
  {
   "cell_type": "code",
   "execution_count": 121,
   "metadata": {},
   "outputs": [
    {
     "name": "stdout",
     "output_type": "stream",
     "text": [
      "[*********************100%***********************]  1 of 1 completed\n"
     ]
    }
   ],
   "source": [
    "# AAPL hisse senedi sembolü\n",
    "symbol = \"AAPL\"\n",
    "\n",
    "# Tarih aralığını belirleyin (örneğin, son 1 yıl)\n",
    "start_date = \"2022-01-01\"\n",
    "end_date = \"2023-01-01\"\n",
    "\n",
    "period = \"5y\"\n",
    "interval = \"1d\"\n",
    "\n",
    "# Verileri çek\n",
    "# data = yf.download(symbol, start=start_date, end=end_date)\n",
    "data = yf.download(symbol, period=period, interval=interval)"
   ]
  },
  {
   "cell_type": "code",
   "execution_count": 122,
   "metadata": {},
   "outputs": [
    {
     "name": "stdout",
     "output_type": "stream",
     "text": [
      "                 Open       High        Low      Close  Adj Close     Volume\n",
      "Date                                                                        \n",
      "2019-01-22  39.102501  39.182499  38.154999  38.325001  36.784752  121576000\n",
      "2019-01-23  38.537498  38.785000  37.924999  38.480000  36.933525   92522400\n",
      "2019-01-24  38.527500  38.619999  37.935001  38.174999  36.640781  101766000\n",
      "2019-01-25  38.869999  39.532501  38.580002  39.439999  37.854950  134142000\n",
      "2019-01-28  38.947498  39.082500  38.415001  39.075001  37.504608  104768400\n"
     ]
    }
   ],
   "source": [
    "# Veriyi göster\n",
    "print(data.head())"
   ]
  },
  {
   "cell_type": "code",
   "execution_count": 123,
   "metadata": {},
   "outputs": [
    {
     "name": "stdout",
     "output_type": "stream",
     "text": [
      "                 Open       High        Low      Close     Volume     Target\n",
      "Date                                                                        \n",
      "2019-01-22  39.102501  39.182499  38.154999  38.325001  121576000  38.480000\n",
      "2019-01-23  38.537498  38.785000  37.924999  38.480000   92522400  38.174999\n",
      "2019-01-24  38.527500  38.619999  37.935001  38.174999  101766000  39.439999\n",
      "2019-01-25  38.869999  39.532501  38.580002  39.439999  134142000  39.075001\n",
      "2019-01-28  38.947498  39.082500  38.415001  39.075001  104768400  38.669998\n"
     ]
    }
   ],
   "source": [
    "data['Target'] = data['Close'].shift(-target_length)\n",
    "data.drop('Adj Close', axis=1, inplace=True)\n",
    "data = data.dropna()\n",
    "print(data.head(5))"
   ]
  },
  {
   "cell_type": "code",
   "execution_count": 124,
   "metadata": {},
   "outputs": [],
   "source": [
    "def calculate_adx_di(df, len_param=14):\n",
    "    \"\"\"\n",
    "    Verilen bir DataFrame'e ADX ve DIPlus, DIMinus sütunlarını ekleyen fonksiyon.\n",
    "\n",
    "    Parameters:\n",
    "    - df: DataFrame, Hissedarlık verilerini içeren DataFrame.\n",
    "    - len_param: int, SmoothedTrueRange ve ADX hesaplamak için kullanılacak periyot.\n",
    "\n",
    "    Returns:\n",
    "    - df: DataFrame, Güncellenmiş DataFrame.\n",
    "    \"\"\"\n",
    "\n",
    "    # TrueRange hesaplama\n",
    "    df['TrueRange'] = df.apply(lambda row: max(row['High'] - row['Low'], abs(row['High'] - df['Close'].shift(1)[row.name]), abs(row['Low'] - df['Close'].shift(1)[row.name])), axis=1)\n",
    "\n",
    "    # Directional Movement hesaplama\n",
    "    df['DirectionalMovementPlus'] = df.apply(lambda row: max(row['High'] - df['High'].shift(1)[row.name], 0) if row['High'] - df['High'].shift(1)[row.name] > df['Low'].shift(1)[row.name] - row['Low'] else 0, axis=1)\n",
    "    df['DirectionalMovementMinus'] = df.apply(lambda row: max(df['Low'].shift(1)[row.name] - row['Low'], 0) if df['Low'].shift(1)[row.name] - row['Low'] > row['High'] - df['High'].shift(1)[row.name] else 0, axis=1)\n",
    "\n",
    "    # # Smoothed TrueRange ve Directional Movement hesaplama\n",
    "    df['SmoothedTrueRange'] = 0.0\n",
    "    df['SmoothedDirectionalMovementPlus'] = 0.0\n",
    "    df['SmoothedDirectionalMovementMinus'] = 0.0\n",
    "\n",
    "    for i in range(1, len(df)):\n",
    "        df.at[df.index[i], 'SmoothedTrueRange'] = df.at[df.index[i-1], 'SmoothedTrueRange'] - (df.at[df.index[i-1], 'SmoothedTrueRange'] / len_param) + df.at[df.index[i], 'TrueRange']\n",
    "        df.at[df.index[i], 'SmoothedDirectionalMovementPlus'] = df.at[df.index[i-1], 'SmoothedDirectionalMovementPlus'] - (df.at[df.index[i-1], 'SmoothedDirectionalMovementPlus'] / len_param) + df.at[df.index[i], 'DirectionalMovementPlus']\n",
    "        df.at[df.index[i], 'SmoothedDirectionalMovementMinus'] = df.at[df.index[i-1], 'SmoothedDirectionalMovementMinus'] - (df.at[df.index[i-1], 'SmoothedDirectionalMovementMinus'] / len_param) + df.at[df.index[i], 'DirectionalMovementMinus']\n",
    "\n",
    "    # DIPlus, DIMinus ve ADX hesaplama\n",
    "    df['DIPlus'] = df['SmoothedDirectionalMovementPlus'] / df['SmoothedTrueRange'] * 100\n",
    "    df['DIMinus'] = df['SmoothedDirectionalMovementMinus'] / df['SmoothedTrueRange'] * 100\n",
    "    df['DX'] = abs(df['DIPlus'] - df['DIMinus']) / (df['DIPlus'] + df['DIMinus']) * 100\n",
    "    df['ADX'] = df['DX'].rolling(window=len_param).mean()\n",
    "\n",
    "    # Gereksiz sütunları düşürme\n",
    "    df = df.drop(['TrueRange', 'DirectionalMovementPlus', 'DirectionalMovementMinus', 'SmoothedTrueRange', 'SmoothedDirectionalMovementPlus', 'SmoothedDirectionalMovementMinus', 'DX'], axis=1)\n",
    "\n",
    "    # İlk 14 satırın NaN değerlerini temizleme\n",
    "    df = df.dropna()\n",
    "\n",
    "    return df\n",
    "\n",
    "data = calculate_adx_di(data)"
   ]
  },
  {
   "cell_type": "code",
   "execution_count": 125,
   "metadata": {},
   "outputs": [],
   "source": [
    "X = data[['Open', 'High', 'Low', 'Close', 'Volume', 'DIPlus', 'DIMinus', 'ADX']].values\n",
    "# X = data[['Open', 'High', 'Low', 'Close', 'Volume']].values"
   ]
  },
  {
   "cell_type": "code",
   "execution_count": 126,
   "metadata": {},
   "outputs": [],
   "source": [
    "data.tail()\n",
    "\n",
    "cols = data.columns\n",
    "inds = data.index"
   ]
  },
  {
   "cell_type": "code",
   "execution_count": 127,
   "metadata": {},
   "outputs": [],
   "source": [
    "from sklearn.preprocessing import MinMaxScaler\n",
    "\n",
    "scaler = MinMaxScaler(feature_range=(0, 1))\n",
    "data = pd.DataFrame(scaler.fit_transform(data), columns=data.columns, index=data.index)"
   ]
  },
  {
   "cell_type": "code",
   "execution_count": 128,
   "metadata": {},
   "outputs": [],
   "source": [
    "# y = data[['Close']].values"
   ]
  },
  {
   "cell_type": "code",
   "execution_count": 129,
   "metadata": {},
   "outputs": [],
   "source": [
    "# define the size of the training set\n",
    "train_size = int(len(data) * 0.8)\n",
    "\n",
    "train, test = data.iloc[:train_size, :], data.iloc[train_size:, :]"
   ]
  },
  {
   "cell_type": "code",
   "execution_count": 130,
   "metadata": {},
   "outputs": [],
   "source": [
    "def create_dataset(dataset, time_steps=1):\n",
    "    X, y = [], []\n",
    "    for i in range(len(dataset) - time_steps):\n",
    "        a = dataset.drop(['Target'], axis=1).iloc[i:(i+time_steps), :].values\n",
    "        X.append(a)\n",
    "        y.append(dataset.iloc[i, 5])\n",
    "    return np.array(X), np.array(y).reshape(-1, 1)"
   ]
  },
  {
   "cell_type": "code",
   "execution_count": 131,
   "metadata": {},
   "outputs": [],
   "source": [
    "X_train, y_train = create_dataset(train, input_length)\n",
    "X_test, y_test = create_dataset(test, input_length)"
   ]
  },
  {
   "cell_type": "code",
   "execution_count": 132,
   "metadata": {},
   "outputs": [],
   "source": [
    "# # split the data into training and testing sets\n",
    "# X_train, X_test = X[:train_size, :], X[train_size:, :]\n",
    "# y_train, y_test = y[:train_size], y[train_size:]"
   ]
  },
  {
   "cell_type": "code",
   "execution_count": 133,
   "metadata": {},
   "outputs": [
    {
     "name": "stdout",
     "output_type": "stream",
     "text": [
      "(984, 10, 8)\n",
      "(984, 1)\n",
      "(239, 10, 8)\n",
      "(239, 1)\n"
     ]
    }
   ],
   "source": [
    "print(X_train.shape)\n",
    "print(y_train.shape)\n",
    "\n",
    "print(X_test.shape)\n",
    "print(y_test.shape)"
   ]
  },
  {
   "cell_type": "code",
   "execution_count": 134,
   "metadata": {},
   "outputs": [
    {
     "name": "stdout",
     "output_type": "stream",
     "text": [
      "Eğitim seti: (984, 10, 8) (984, 1)\n",
      "Test seti: (239, 10, 8) (239, 1)\n"
     ]
    }
   ],
   "source": [
    "from sklearn.preprocessing import MinMaxScaler\n",
    "\n",
    "# # normalize the data using MinMaxScaler\n",
    "# X_scaler = MinMaxScaler(feature_range=(0, 1))\n",
    "# y_scaler = MinMaxScaler(feature_range=(0, 1))\n",
    "# \n",
    "# X_train = X_scaler.fit_transform(X_train)\n",
    "# y_train = y_scaler.fit_transform(y_train)\n",
    "# \n",
    "# X_test = X_scaler.transform(X_test)\n",
    "# y_test = y_scaler.transform(y_test)\n",
    "\n",
    "# Eğitim ve test setlerini göster\n",
    "print(\"Eğitim seti:\", X_train.shape, y_train.shape)\n",
    "print(\"Test seti:\", X_test.shape, y_test.shape)"
   ]
  },
  {
   "cell_type": "code",
   "execution_count": 135,
   "metadata": {},
   "outputs": [],
   "source": [
    "# reshape the input data into 3D format (samples, time steps, features)\n",
    "X_train = X_train.reshape((X_train.shape[0], input_length, X_train.shape[2]))\n",
    "X_test = X_test.reshape((X_test.shape[0], input_length, X_test.shape[2]))"
   ]
  },
  {
   "cell_type": "code",
   "execution_count": 136,
   "metadata": {},
   "outputs": [
    {
     "name": "stdout",
     "output_type": "stream",
     "text": [
      "Eğitim seti: (984, 10, 8) (984, 1)\n",
      "Test seti: (239, 10, 8) (239, 1)\n"
     ]
    }
   ],
   "source": [
    "# Eğitim ve test setlerini göster\n",
    "print(\"Eğitim seti:\", X_train.shape, y_train.shape)\n",
    "print(\"Test seti:\", X_test.shape, y_test.shape)"
   ]
  },
  {
   "cell_type": "code",
   "execution_count": 137,
   "metadata": {},
   "outputs": [],
   "source": [
    "from keras import Sequential\n",
    "from keras.layers import LSTM, Dropout, Dense\n",
    "\n",
    "# define the LSTM model\n",
    "model = Sequential()\n",
    "model.add(LSTM(100, input_shape=(X_train.shape[1], X_train.shape[2]), return_sequences=True))\n",
    "model.add(Dropout(0.2))\n",
    "model.add(LSTM(100, return_sequences=True))\n",
    "model.add(Dropout(0.2))\n",
    "model.add(LSTM(100))\n",
    "model.add(Dropout(0.2))\n",
    "model.add(Dense(1))\n",
    "model.compile(loss='mae', optimizer='adam')"
   ]
  },
  {
   "cell_type": "code",
   "execution_count": 138,
   "metadata": {},
   "outputs": [
    {
     "name": "stdout",
     "output_type": "stream",
     "text": [
      "Model: \"sequential_2\"\n",
      "_________________________________________________________________\n",
      " Layer (type)                Output Shape              Param #   \n",
      "=================================================================\n",
      " lstm_6 (LSTM)               (None, 10, 100)           43600     \n",
      "                                                                 \n",
      " dropout_6 (Dropout)         (None, 10, 100)           0         \n",
      "                                                                 \n",
      " lstm_7 (LSTM)               (None, 10, 100)           80400     \n",
      "                                                                 \n",
      " dropout_7 (Dropout)         (None, 10, 100)           0         \n",
      "                                                                 \n",
      " lstm_8 (LSTM)               (None, 100)               80400     \n",
      "                                                                 \n",
      " dropout_8 (Dropout)         (None, 100)               0         \n",
      "                                                                 \n",
      " dense_2 (Dense)             (None, 1)                 101       \n",
      "                                                                 \n",
      "=================================================================\n",
      "Total params: 204,501\n",
      "Trainable params: 204,501\n",
      "Non-trainable params: 0\n",
      "_________________________________________________________________\n"
     ]
    }
   ],
   "source": [
    "model.summary()"
   ]
  },
  {
   "cell_type": "code",
   "execution_count": 139,
   "metadata": {},
   "outputs": [
    {
     "name": "stdout",
     "output_type": "stream",
     "text": [
      "Epoch 1/30\n",
      "984/984 [==============================] - ETA: 0s - loss: 0.0714\n",
      "Epoch 1: val_loss improved from inf to 0.16949, saving model to best_model.h5\n",
      "984/984 [==============================] - 15s 11ms/step - loss: 0.0714 - val_loss: 0.1695\n",
      "Epoch 2/30\n",
      "978/984 [============================>.] - ETA: 0s - loss: 0.0483\n",
      "Epoch 2: val_loss improved from 0.16949 to 0.04968, saving model to best_model.h5\n",
      "984/984 [==============================] - 8s 8ms/step - loss: 0.0483 - val_loss: 0.0497\n",
      "Epoch 3/30\n",
      "978/984 [============================>.] - ETA: 0s - loss: 0.0441\n",
      "Epoch 3: val_loss did not improve from 0.04968\n",
      "984/984 [==============================] - 8s 8ms/step - loss: 0.0440 - val_loss: 0.0564\n",
      "Epoch 4/30\n",
      "983/984 [============================>.] - ETA: 0s - loss: 0.0413\n",
      "Epoch 4: val_loss improved from 0.04968 to 0.03097, saving model to best_model.h5\n",
      "984/984 [==============================] - 8s 8ms/step - loss: 0.0413 - val_loss: 0.0310\n",
      "Epoch 5/30\n",
      "982/984 [============================>.] - ETA: 0s - loss: 0.0419\n",
      "Epoch 5: val_loss did not improve from 0.03097\n",
      "984/984 [==============================] - 9s 9ms/step - loss: 0.0418 - val_loss: 0.0373\n",
      "Epoch 6/30\n",
      "982/984 [============================>.] - ETA: 0s - loss: 0.0434\n",
      "Epoch 6: val_loss did not improve from 0.03097\n",
      "984/984 [==============================] - 11s 11ms/step - loss: 0.0434 - val_loss: 0.0427\n",
      "Epoch 7/30\n",
      "983/984 [============================>.] - ETA: 0s - loss: 0.0395\n",
      "Epoch 7: val_loss did not improve from 0.03097\n",
      "984/984 [==============================] - 11s 11ms/step - loss: 0.0395 - val_loss: 0.0342\n",
      "Epoch 8/30\n",
      "979/984 [============================>.] - ETA: 0s - loss: 0.0368\n",
      "Epoch 8: val_loss did not improve from 0.03097\n",
      "984/984 [==============================] - 11s 11ms/step - loss: 0.0367 - val_loss: 0.0314\n",
      "Epoch 9/30\n",
      "984/984 [==============================] - ETA: 0s - loss: 0.0374\n",
      "Epoch 9: val_loss did not improve from 0.03097\n",
      "984/984 [==============================] - 9s 10ms/step - loss: 0.0374 - val_loss: 0.0393\n"
     ]
    }
   ],
   "source": [
    "# train the model\n",
    "from keras.callbacks import ModelCheckpoint, EarlyStopping\n",
    "\n",
    "checkpoint = ModelCheckpoint('best_model.h5', monitor='val_loss', save_best_only=True, mode='min', verbose=1)\n",
    "callback = EarlyStopping(patience=5)\n",
    "\n",
    "model_his = model.fit(X_train, y_train, epochs=30, batch_size=1, validation_data=(X_test, y_test), verbose=1, callbacks=[checkpoint, callback])"
   ]
  },
  {
   "cell_type": "code",
   "execution_count": 140,
   "metadata": {},
   "outputs": [
    {
     "data": {
      "image/png": "[encoded data removed]",
      "text/plain": [
       "<Figure size 432x288 with 1 Axes>"
      ]
     },
     "metadata": {
      "needs_background": "light"
     },
     "output_type": "display_data"
    }
   ],
   "source": [
    "import matplotlib.pyplot as plt\n",
    "\n",
    "# Plot the training loss\n",
    "plt.plot(model_his.history['loss'], label='Training Loss')\n",
    "plt.plot(model_his.history['val_loss'], label='Validation Loss')\n",
    "plt.xlabel('Epoch')\n",
    "plt.ylabel('Loss')\n",
    "plt.legend()\n",
    "plt.show()"
   ]
  },
  {
   "cell_type": "code",
   "execution_count": 141,
   "metadata": {},
   "outputs": [],
   "source": [
    "preds = model.predict(X_test)"
   ]
  },
  {
   "cell_type": "code",
   "execution_count": 142,
   "metadata": {},
   "outputs": [],
   "source": [
    "# inverse transform eklenecek"
   ]
  },
  {
   "cell_type": "code",
   "execution_count": 143,
   "metadata": {},
   "outputs": [],
   "source": [
    "# min_values = scaler.data_min_\n",
    "# max_values = scaler.data_max_\n",
    "# data_range = scaler.data_range_"
   ]
  },
  {
   "cell_type": "code",
   "execution_count": 144,
   "metadata": {},
   "outputs": [],
   "source": [
    "import matplotlib.pyplot as plt\n",
    "import numpy as np"
   ]
  },
  {
   "cell_type": "code",
   "execution_count": 145,
   "metadata": {},
   "outputs": [
    {
     "data": {
      "image/png": "[encoded data removed]",
      "text/plain": [
       "<Figure size 1440x1440 with 1 Axes>"
      ]
     },
     "metadata": {
      "needs_background": "light"
     },
     "output_type": "display_data"
    }
   ],
   "source": [
    "# X eksenindeki değerler\n",
    "x_values = np.arange(len(preds))\n",
    "\n",
    "\n",
    "plt.figure(figsize=(20, 20))\n",
    "\n",
    "\n",
    "# Çizgi grafikleri oluştur\n",
    "plt.plot(x_values, preds, label='Predictions', marker='o')\n",
    "plt.plot(x_values, y_test, label='Actual', marker='o')\n",
    "\n",
    "# Eksen etiketleri\n",
    "plt.xlabel('Örnek Numarası')\n",
    "plt.ylabel('Değerler')\n",
    "\n",
    "# Başlık\n",
    "plt.title('Predictions vs Actuals')\n",
    "\n",
    "# İlgili yeri göster\n",
    "plt.legend()\n",
    "\n",
    "plt.savefig('example_plot.png')\n",
    "\n",
    "# Grafik göster\n",
    "plt.show()"
   ]
  },
  {
   "cell_type": "code",
   "execution_count": 146,
   "metadata": {},
   "outputs": [
    {
     "name": "stdout",
     "output_type": "stream",
     "text": [
      "Mean absolute error : 0.039303990045028984\n"
     ]
    }
   ],
   "source": [
    "from sklearn.metrics import mean_absolute_error as mae\n",
    "\n",
    "# calculate MAE \n",
    "error = mae(preds, y_test) \n",
    "  \n",
    "# display \n",
    "print(\"Mean absolute error : \" + str(error)) "
   ]
  },
  {
   "cell_type": "code",
   "execution_count": 147,
   "metadata": {},
   "outputs": [
    {
     "name": "stdout",
     "output_type": "stream",
     "text": [
      "Mean absolute error : 0.046351176298863574\n"
     ]
    }
   ],
   "source": [
    "from sklearn.metrics import mean_absolute_percentage_error\n",
    "\n",
    "error = mean_absolute_percentage_error(preds, y_test)\n",
    "print(\"Mean absolute error : \" + str(error)) "
   ]
  },
  {
   "cell_type": "code",
   "execution_count": 148,
   "metadata": {},
   "outputs": [
    {
     "name": "stdout",
     "output_type": "stream",
     "text": [
      "[0.65413904] [0.64272169]\n",
      "[0.6558745] [0.63841482]\n",
      "[0.6596447] [0.65191404]\n",
      "[0.6675621] [0.66457746]\n",
      "[0.67731214] [0.64574294]\n",
      "[0.6878195] [0.65403525]\n",
      "[0.69799376] [0.66136337]\n",
      "[0.7075306] [0.69601136]\n",
      "[0.7141187] [0.71966702]\n",
      "[0.7172164] [0.70186093]\n",
      "[0.7189077] [0.72063121]\n",
      "[0.7213551] [0.7030823]\n",
      "[0.7239969] [0.69633269]\n",
      "[0.72651565] [0.69723263]\n",
      "[0.72877777] [0.71548874]\n",
      "[0.7295505] [0.71131037]\n",
      "[0.7264633] [0.72500242]\n",
      "[0.7217499] [0.7145888]\n",
      "[0.7155763] [0.70713209]\n",
      "[0.7073233] [0.68096934]\n",
      "[0.69887555] [0.68373351]\n",
      "[0.69355893] [0.68688326]\n",
      "[0.69162095] [0.66959153]\n",
      "[0.69282925] [0.67736958]\n",
      "[0.69842935] [0.67409124]\n",
      "[0.7031323] [0.66059202]\n",
      "[0.7080177] [0.66444897]\n",
      "[0.71351445] [0.69736122]\n",
      "[0.7170546] [0.71536015]\n",
      "[0.716048] [0.70102533]\n",
      "[0.71262467] [0.70918905]\n",
      "[0.7122849] [0.69453281]\n",
      "[0.71285474] [0.68109793]\n",
      "[0.7167225] [0.69376146]\n",
      "[0.7248994] [0.70738917]\n",
      "[0.7330867] [0.7099605]\n",
      "[0.74161184] [0.7283451]\n",
      "[0.7494364] [0.72288111]\n",
      "[0.7542604] [0.73830871]\n",
      "[0.75708663] [0.75039372]\n",
      "[0.7582637] [0.74107288]\n",
      "[0.75883067] [0.74814382]\n",
      "[0.76047564] [0.75662906]\n",
      "[0.7647785] [0.74396554]\n",
      "[0.7711656] [0.73991575]\n",
      "[0.7780471] [0.75997174]\n",
      "[0.7854856] [0.77019253]\n",
      "[0.7888386] [0.78652006]\n",
      "[0.7884811] [0.79468388]\n",
      "[0.7857218] [0.79121271]\n",
      "[0.781281] [0.77919194]\n",
      "[0.7766783] [0.78497736]\n",
      "[0.7764796] [0.76807122]\n",
      "[0.778126] [0.76016458]\n",
      "[0.7830491] [0.75566487]\n",
      "[0.7883246] [0.79076269]\n",
      "[0.793856] [0.78851288]\n",
      "[0.79609144] [0.78864138]\n",
      "[0.7958735] [0.79661236]\n",
      "[0.79476464] [0.80406907]\n",
      "[0.7931392] [0.79776938]\n",
      "[0.7926779] [0.78729151]\n",
      "[0.79414463] [0.78928423]\n",
      "[0.79648364] [0.77925629]\n",
      "[0.7981924] [0.77919194]\n",
      "[0.80028236] [0.80908304]\n",
      "[0.803419] [0.81724676]\n",
      "[0.8050811] [0.81666825]\n",
      "[0.8068745] [0.80991864]\n",
      "[0.8096851] [0.80291195]\n",
      "[0.8140241] [0.79224114]\n",
      "[0.81839156] [0.84225248]\n",
      "[0.8242141] [0.84180246]\n",
      "[0.8249786] [0.83068173]\n",
      "[0.82475436] [0.84218814]\n",
      "[0.8251481] [0.84340951]\n",
      "[0.8258966] [0.8358243]\n",
      "[0.8267237] [0.83261021]\n",
      "[0.8274816] [0.83261021]\n",
      "[0.8266226] [0.83659565]\n",
      "[0.8237624] [0.85176616]\n",
      "[0.82120705] [0.85247326]\n",
      "[0.8180001] [0.84630217]\n",
      "[0.8149599] [0.82933177]\n",
      "[0.8149916] [0.83113166]\n",
      "[0.8190855] [0.83852412]\n",
      "[0.82464385] [0.8542088]\n",
      "[0.8299954] [0.86622957]\n",
      "[0.83402944] [0.86590814]\n",
      "[0.8363012] [0.88416415]\n",
      "[0.8387641] [0.88969239]\n",
      "[0.8410629] [0.88088581]\n",
      "[0.84241974] [0.87850742]\n",
      "[0.8438014] [0.86957225]\n",
      "[0.846766] [0.88724975]\n",
      "[0.8503281] [0.88975673]\n",
      "[0.85356367] [0.9079484]\n",
      "[0.85622084] [0.9048629]\n",
      "[0.8583909] [0.90897693]\n",
      "[0.8604131] [0.92221897]\n",
      "[0.8618156] [0.91521228]\n",
      "[0.86303735] [0.91579079]\n",
      "[0.86211693] [0.90904128]\n",
      "[0.8623848] [0.9285829]\n",
      "[0.8638617] [0.92652584]\n",
      "[0.8660178] [0.91746218]\n",
      "[0.8683758] [0.93539676]\n",
      "[0.8712239] [0.94304631]\n",
      "[0.8748369] [0.94523187]\n",
      "[0.8764956] [0.97338733]\n",
      "[0.8777832] [0.96368082]\n",
      "[0.8779242] [0.95641694]\n",
      "[0.87559533] [0.95950244]\n",
      "[0.8744972] [0.95223856]\n",
      "[0.8718513] [0.93893228]\n",
      "[0.870276] [0.93552535]\n",
      "[0.8709413] [0.94638899]\n",
      "[0.87294614] [0.95133862]\n",
      "[0.8752681] [0.95230291]\n",
      "[0.87734413] [0.97351593]\n",
      "[0.87916183] [0.97184454]\n",
      "[0.88020515] [0.98065121]\n",
      "[0.881019] [0.96798769]\n",
      "[0.8812015] [0.96033813]\n",
      "[0.8818848] [0.96554495]\n",
      "[0.8835399] [0.97113743]\n",
      "[0.8851484] [0.97679426]\n",
      "[0.8870251] [0.9685662]\n",
      "[0.8887491] [0.98534376]\n",
      "[0.88882077] [0.9893292]\n",
      "[0.88670385] [0.98392955]\n",
      "[0.88114035] [0.96445217]\n",
      "[0.8714411] [0.95538841]\n",
      "[0.8615986] [0.89637775]\n",
      "[0.85241175] [0.87619327]\n",
      "[0.84988904] [0.88230002]\n",
      "[0.85038245] [0.87195065]\n",
      "[0.85033655] [0.87053644]\n",
      "[0.8484168] [0.86937931]\n",
      "[0.8441973] [0.88011446]\n",
      "[0.84129655] [0.86719376]\n",
      "[0.83829284] [0.86153702]\n",
      "[0.8361403] [0.84501655]\n",
      "[0.8344439] [0.8481664]\n",
      "[0.8351865] [0.85684438]\n",
      "[0.8377671] [0.86577955]\n",
      "[0.8406465] [0.89078517]\n",
      "[0.84438324] [0.86031565]\n",
      "[0.8486229] [0.87465047]\n",
      "[0.8552574] [0.88480701]\n",
      "[0.8614762] [0.91006971]\n",
      "[0.8660197] [0.93276118]\n",
      "[0.86724734] [0.93417539]\n",
      "[0.86488545] [0.94439627]\n",
      "[0.8596525] [0.94593897]\n",
      "[0.85072875] [0.90229167]\n",
      "[0.8405448] [0.86790086]\n",
      "[0.83465576] [0.8718863]\n",
      "[0.834839] [0.87947161]\n",
      "[0.83411574] [0.85980139]\n",
      "[0.8339422] [0.84636651]\n",
      "[0.835698] [0.85620162]\n",
      "[0.8380039] [0.85150898]\n",
      "[0.8399632] [0.87053644]\n",
      "[0.84077454] [0.87760748]\n",
      "[0.83857846] [0.85459458]\n",
      "[0.834954] [0.84456653]\n",
      "[0.83179986] [0.85009477]\n",
      "[0.8293785] [0.85838718]\n",
      "[0.82577324] [0.8319031]\n",
      "[0.82187533] [0.8220679]\n",
      "[0.82102966] [0.82373929]\n",
      "[0.8233559] [0.82708197]\n",
      "[0.8275262] [0.84340951]\n",
      "[0.83121824] [0.83473142]\n",
      "[0.83561885] [0.84283099]\n",
      "[0.84077847] [0.85086622]\n",
      "[0.8459065] [0.86745094]\n",
      "[0.85004735] [0.87709321]\n",
      "[0.8523756] [0.87323626]\n",
      "[0.85316885] [0.88230002]\n",
      "[0.8529587] [0.88814969]\n",
      "[0.8519776] [0.87619327]\n",
      "[0.84894264] [0.87535757]\n",
      "[0.84555864] [0.86526528]\n",
      "[0.8424649] [0.85684438]\n",
      "[0.838037] [0.85440174]\n",
      "[0.8321024] [0.83781702]\n",
      "[0.82297003] [0.83858837]\n",
      "[0.81498635] [0.84141679]\n",
      "[0.8102752] [0.82637487]\n",
      "[0.80656123] [0.79931218]\n",
      "[0.80600715] [0.80786167]\n",
      "[0.8115418] [0.82116796]\n",
      "[0.81834984] [0.82425355]\n",
      "[0.8243705] [0.84482371]\n",
      "[0.83158743] [0.8679652]\n",
      "[0.8367591] [0.86205119]\n",
      "[0.84053683] [0.87863591]\n",
      "[0.84559155] [0.89528497]\n",
      "[0.849839] [0.90216308]\n",
      "[0.85288155] [0.89907758]\n",
      "[0.85604] [0.92472596]\n",
      "[0.8588029] [0.91444093]\n",
      "[0.86151135] [0.93141132]\n",
      "[0.864277] [0.93507533]\n",
      "[0.866598] [0.94600332]\n",
      "[0.8683115] [0.94587473]\n",
      "[0.8697033] [0.95718829]\n",
      "[0.8702581] [0.95198148]\n",
      "[0.8714255] [0.95628835]\n",
      "[0.870332] [0.94767461]\n",
      "[0.86952484] [0.94651749]\n",
      "[0.8696288] [0.95043868]\n",
      "[0.86981976] [0.94381766]\n",
      "[0.8709333] [0.94754602]\n",
      "[0.8725351] [0.95583843]\n",
      "[0.87365043] [0.94420334]\n",
      "[0.8745744] [0.96985182]\n",
      "[0.8749708] [0.96278087]\n",
      "[0.875635] [0.97531581]\n",
      "[0.8759768] [0.9845724]\n",
      "[0.87682843] [0.96830902]\n",
      "[0.87836254] [0.97814422]\n",
      "[0.88126504] [0.99903581]\n",
      "[0.8838254] [1.]\n",
      "[0.88548934] [0.99652883]\n",
      "[0.88569343] [0.98572943]\n",
      "[0.8857335] [0.99247904]\n",
      "[0.88591146] [0.97891557]\n",
      "[0.88601995] [0.97795129]\n",
      "[0.8856704] [0.97100894]\n",
      "[0.8856648] [0.96747342]\n",
      "[0.8828782] [0.96811618]\n",
      "[0.8789011] [0.97088035]\n",
      "[0.87264204] [0.96413074]\n",
      "[0.86435294] [0.91984057]\n",
      "[0.85746825] [0.91090541]\n",
      "[0.8571998] [0.89586349]\n"
     ]
    }
   ],
   "source": [
    "for index, value in enumerate(preds):\n",
    "    print(value, y_test[index])"
   ]
  }
 ],
 "metadata": {
  "kernelspec": {
   "display_name": "Python 3",
   "language": "python",
   "name": "python3"
  },
  "language_info": {
   "codemirror_mode": {
    "name": "ipython",
    "version": 3
   },
   "file_extension": ".py",
   "mimetype": "text/x-python",
   "name": "python",
   "nbconvert_exporter": "python",
   "pygments_lexer": "ipython3",
   "version": "3.8.5"
  }
 },
 "nbformat": 4,
 "nbformat_minor": 2
}
