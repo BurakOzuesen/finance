{
 "cells": [
  {
   "cell_type": "code",
   "execution_count": 34,
   "metadata": {},
   "outputs": [],
   "source": [
    "import warnings\n",
    "warnings.filterwarnings('ignore')"
   ]
  },
  {
   "cell_type": "markdown",
   "metadata": {},
   "source": [
    "https://arxiv.org/pdf/2308.04419.pdf"
   ]
  },
  {
   "cell_type": "code",
   "execution_count": 35,
   "metadata": {},
   "outputs": [],
   "source": [
    "import yfinance as yf\n",
    "import pandas as pd\n",
    "import numpy as np"
   ]
  },
  {
   "cell_type": "code",
   "execution_count": 36,
   "metadata": {},
   "outputs": [],
   "source": [
    "input_length = 1\n",
    "target_length = 30"
   ]
  },
  {
   "cell_type": "code",
   "execution_count": 37,
   "metadata": {},
   "outputs": [
    {
     "name": "stdout",
     "output_type": "stream",
     "text": [
      "[*********************100%***********************]  1 of 1 completed\n"
     ]
    }
   ],
   "source": [
    "# AAPL hisse senedi sembolü\n",
    "symbol = \"AAPL\"\n",
    "\n",
    "# Tarih aralığını belirleyin (örneğin, son 1 yıl)\n",
    "start_date = \"2022-01-01\"\n",
    "end_date = \"2023-01-01\"\n",
    "\n",
    "period = \"5y\"\n",
    "interval = \"1d\"\n",
    "\n",
    "# Verileri çek\n",
    "# data = yf.download(symbol, start=start_date, end=end_date)\n",
    "data = yf.download(symbol, period=period, interval=interval)"
   ]
  },
  {
   "cell_type": "code",
   "execution_count": 38,
   "metadata": {},
   "outputs": [
    {
     "name": "stdout",
     "output_type": "stream",
     "text": [
      "                 Open       High        Low      Close  Adj Close     Volume\n",
      "Date                                                                        \n",
      "2019-01-22  39.102501  39.182499  38.154999  38.325001  36.784756  121576000\n",
      "2019-01-23  38.537498  38.785000  37.924999  38.480000  36.933517   92522400\n",
      "2019-01-24  38.527500  38.619999  37.935001  38.174999  36.640778  101766000\n",
      "2019-01-25  38.869999  39.532501  38.580002  39.439999  37.854939  134142000\n",
      "2019-01-28  38.947498  39.082500  38.415001  39.075001  37.504616  104768400\n"
     ]
    }
   ],
   "source": [
    "# Veriyi göster\n",
    "print(data.head())"
   ]
  },
  {
   "cell_type": "code",
   "execution_count": 39,
   "metadata": {},
   "outputs": [
    {
     "name": "stdout",
     "output_type": "stream",
     "text": [
      "                 Open       High        Low      Close     Volume     Target\n",
      "Date                                                                        \n",
      "2019-01-22  39.102501  39.182499  38.154999  38.325001  121576000  43.630001\n",
      "2019-01-23  38.537498  38.785000  37.924999  38.480000   92522400  43.125000\n",
      "2019-01-24  38.527500  38.619999  37.935001  38.174999  101766000  43.227501\n",
      "2019-01-25  38.869999  39.532501  38.580002  39.439999  134142000  44.724998\n",
      "2019-01-28  38.947498  39.082500  38.415001  39.075001  104768400  45.227501\n"
     ]
    }
   ],
   "source": [
    "data['Target'] = data['Close'].shift(-target_length)\n",
    "data.drop('Adj Close', axis=1, inplace=True)\n",
    "data = data.dropna()\n",
    "print(data.head(5))"
   ]
  },
  {
   "cell_type": "code",
   "execution_count": 40,
   "metadata": {},
   "outputs": [],
   "source": [
    "def calculate_adx_di(df, len_param=14):\n",
    "    \"\"\"\n",
    "    Verilen bir DataFrame'e ADX ve DIPlus, DIMinus sütunlarını ekleyen fonksiyon.\n",
    "\n",
    "    Parameters:\n",
    "    - df: DataFrame, Hissedarlık verilerini içeren DataFrame.\n",
    "    - len_param: int, SmoothedTrueRange ve ADX hesaplamak için kullanılacak periyot.\n",
    "\n",
    "    Returns:\n",
    "    - df: DataFrame, Güncellenmiş DataFrame.\n",
    "    \"\"\"\n",
    "\n",
    "    # TrueRange hesaplama\n",
    "    df['TrueRange'] = df.apply(lambda row: max(row['High'] - row['Low'], abs(row['High'] - df['Close'].shift(1)[row.name]), abs(row['Low'] - df['Close'].shift(1)[row.name])), axis=1)\n",
    "\n",
    "    # Directional Movement hesaplama\n",
    "    df['DirectionalMovementPlus'] = df.apply(lambda row: max(row['High'] - df['High'].shift(1)[row.name], 0) if row['High'] - df['High'].shift(1)[row.name] > df['Low'].shift(1)[row.name] - row['Low'] else 0, axis=1)\n",
    "    df['DirectionalMovementMinus'] = df.apply(lambda row: max(df['Low'].shift(1)[row.name] - row['Low'], 0) if df['Low'].shift(1)[row.name] - row['Low'] > row['High'] - df['High'].shift(1)[row.name] else 0, axis=1)\n",
    "\n",
    "    # # Smoothed TrueRange ve Directional Movement hesaplama\n",
    "    df['SmoothedTrueRange'] = 0.0\n",
    "    df['SmoothedDirectionalMovementPlus'] = 0.0\n",
    "    df['SmoothedDirectionalMovementMinus'] = 0.0\n",
    "\n",
    "    for i in range(1, len(df)):\n",
    "        df.at[df.index[i], 'SmoothedTrueRange'] = df.at[df.index[i-1], 'SmoothedTrueRange'] - (df.at[df.index[i-1], 'SmoothedTrueRange'] / len_param) + df.at[df.index[i], 'TrueRange']\n",
    "        df.at[df.index[i], 'SmoothedDirectionalMovementPlus'] = df.at[df.index[i-1], 'SmoothedDirectionalMovementPlus'] - (df.at[df.index[i-1], 'SmoothedDirectionalMovementPlus'] / len_param) + df.at[df.index[i], 'DirectionalMovementPlus']\n",
    "        df.at[df.index[i], 'SmoothedDirectionalMovementMinus'] = df.at[df.index[i-1], 'SmoothedDirectionalMovementMinus'] - (df.at[df.index[i-1], 'SmoothedDirectionalMovementMinus'] / len_param) + df.at[df.index[i], 'DirectionalMovementMinus']\n",
    "\n",
    "    # DIPlus, DIMinus ve ADX hesaplama\n",
    "    df['DIPlus'] = df['SmoothedDirectionalMovementPlus'] / df['SmoothedTrueRange'] * 100\n",
    "    df['DIMinus'] = df['SmoothedDirectionalMovementMinus'] / df['SmoothedTrueRange'] * 100\n",
    "    df['DX'] = abs(df['DIPlus'] - df['DIMinus']) / (df['DIPlus'] + df['DIMinus']) * 100\n",
    "    df['ADX'] = df['DX'].rolling(window=len_param).mean()\n",
    "\n",
    "    # Gereksiz sütunları düşürme\n",
    "    df = df.drop(['TrueRange', 'DirectionalMovementPlus', 'DirectionalMovementMinus', 'SmoothedTrueRange', 'SmoothedDirectionalMovementPlus', 'SmoothedDirectionalMovementMinus', 'DX'], axis=1)\n",
    "\n",
    "    # İlk 14 satırın NaN değerlerini temizleme\n",
    "    df = df.dropna()\n",
    "\n",
    "    return df\n",
    "\n",
    "data = calculate_adx_di(data)"
   ]
  },
  {
   "cell_type": "code",
   "execution_count": 41,
   "metadata": {},
   "outputs": [],
   "source": [
    "X = data[['Open', 'High', 'Low', 'Close', 'Volume', 'DIPlus', 'DIMinus', 'ADX']].values\n",
    "# X = data[['Open', 'High', 'Low', 'Close', 'Volume']].values"
   ]
  },
  {
   "cell_type": "code",
   "execution_count": 42,
   "metadata": {},
   "outputs": [],
   "source": [
    "data.tail()\n",
    "\n",
    "cols = data.columns\n",
    "inds = data.index"
   ]
  },
  {
   "cell_type": "code",
   "execution_count": 43,
   "metadata": {},
   "outputs": [],
   "source": [
    "from sklearn.preprocessing import MinMaxScaler\n",
    "\n",
    "scaler = MinMaxScaler(feature_range=(0, 1))\n",
    "# data = pd.DataFrame(scaler.fit_transform(data), columns=data.columns, index=data.index)"
   ]
  },
  {
   "cell_type": "code",
   "execution_count": 44,
   "metadata": {},
   "outputs": [],
   "source": [
    "y = data[['Close']].values"
   ]
  },
  {
   "cell_type": "code",
   "execution_count": 45,
   "metadata": {},
   "outputs": [],
   "source": [
    "# define the size of the training set\n",
    "train_size = int(len(data) * 0.8)\n",
    "\n",
    "train, test = data.iloc[:train_size, :], data.iloc[train_size:, :]"
   ]
  },
  {
   "cell_type": "code",
   "execution_count": 46,
   "metadata": {},
   "outputs": [],
   "source": [
    "def create_dataset(dataset, time_steps=1):\n",
    "    X, y = [], []\n",
    "    for i in range(len(dataset) - time_steps):\n",
    "        a = dataset.drop(['Target'], axis=1).iloc[i:(i+time_steps), :].values\n",
    "        X.append(a)\n",
    "        y.append(dataset.iloc[i, 5])\n",
    "    return np.array(X), np.array(y).reshape(-1, 1)"
   ]
  },
  {
   "cell_type": "code",
   "execution_count": 47,
   "metadata": {},
   "outputs": [],
   "source": [
    "X_train, y_train = create_dataset(train, input_length)\n",
    "X_test, y_test = create_dataset(test, input_length)"
   ]
  },
  {
   "cell_type": "code",
   "execution_count": 48,
   "metadata": {},
   "outputs": [],
   "source": [
    "# split the data into training and testing sets\n",
    "X_train, X_test = X[:train_size, :], X[train_size:, :]\n",
    "y_train, y_test = y[:train_size], y[train_size:]"
   ]
  },
  {
   "cell_type": "code",
   "execution_count": 49,
   "metadata": {},
   "outputs": [
    {
     "name": "stdout",
     "output_type": "stream",
     "text": [
      "(971, 8)\n",
      "(971, 1)\n",
      "(243, 8)\n",
      "(243, 1)\n"
     ]
    }
   ],
   "source": [
    "print(X_train.shape)\n",
    "print(y_train.shape)\n",
    "\n",
    "print(X_test.shape)\n",
    "print(y_test.shape)"
   ]
  },
  {
   "cell_type": "code",
   "execution_count": 50,
   "metadata": {},
   "outputs": [
    {
     "name": "stdout",
     "output_type": "stream",
     "text": [
      "Eğitim seti: (971, 8) (971, 1)\n",
      "Test seti: (243, 8) (243, 1)\n"
     ]
    }
   ],
   "source": [
    "from sklearn.preprocessing import MinMaxScaler\n",
    "\n",
    "# # normalize the data using MinMaxScaler\n",
    "# X_scaler = MinMaxScaler(feature_range=(0, 1))\n",
    "# y_scaler = MinMaxScaler(feature_range=(0, 1))\n",
    "# \n",
    "# X_train = X_scaler.fit_transform(X_train)\n",
    "# y_train = y_scaler.fit_transform(y_train)\n",
    "# \n",
    "# X_test = X_scaler.transform(X_test)\n",
    "# y_test = y_scaler.transform(y_test)\n",
    "\n",
    "# Eğitim ve test setlerini göster\n",
    "print(\"Eğitim seti:\", X_train.shape, y_train.shape)\n",
    "print(\"Test seti:\", X_test.shape, y_test.shape)"
   ]
  },
  {
   "cell_type": "code",
   "execution_count": 51,
   "metadata": {},
   "outputs": [],
   "source": [
    "# reshape the input data into 3D format (samples, time steps, features)\n",
    "X_train = X_train.reshape((X_train.shape[0], 1, X_train.shape[1]))\n",
    "X_test = X_test.reshape((X_test.shape[0], 1, X_test.shape[1]))"
   ]
  },
  {
   "cell_type": "code",
   "execution_count": 52,
   "metadata": {},
   "outputs": [
    {
     "name": "stdout",
     "output_type": "stream",
     "text": [
      "Eğitim seti: (971, 1, 8) (971, 1)\n",
      "Test seti: (243, 1, 8) (243, 1)\n"
     ]
    }
   ],
   "source": [
    "# Eğitim ve test setlerini göster\n",
    "print(\"Eğitim seti:\", X_train.shape, y_train.shape)\n",
    "print(\"Test seti:\", X_test.shape, y_test.shape)"
   ]
  },
  {
   "cell_type": "code",
   "execution_count": 53,
   "metadata": {},
   "outputs": [],
   "source": [
    "from keras import Sequential\n",
    "from keras.layers import LSTM, Dropout, Dense\n",
    "\n",
    "# define the LSTM model\n",
    "model = Sequential()\n",
    "model.add(LSTM(100, input_shape=(X_train.shape[1], X_train.shape[2]), return_sequences=True))\n",
    "model.add(Dropout(0.2))\n",
    "model.add(LSTM(100, return_sequences=True))\n",
    "model.add(Dropout(0.2))\n",
    "model.add(LSTM(100))\n",
    "model.add(Dropout(0.2))\n",
    "model.add(Dense(1))\n",
    "model.compile(loss='mae', optimizer='adam')"
   ]
  },
  {
   "cell_type": "code",
   "execution_count": 54,
   "metadata": {},
   "outputs": [
    {
     "name": "stdout",
     "output_type": "stream",
     "text": [
      "Model: \"sequential_1\"\n",
      "_________________________________________________________________\n",
      " Layer (type)                Output Shape              Param #   \n",
      "=================================================================\n",
      " lstm_3 (LSTM)               (None, 1, 100)            43600     \n",
      "                                                                 \n",
      " dropout_3 (Dropout)         (None, 1, 100)            0         \n",
      "                                                                 \n",
      " lstm_4 (LSTM)               (None, 1, 100)            80400     \n",
      "                                                                 \n",
      " dropout_4 (Dropout)         (None, 1, 100)            0         \n",
      "                                                                 \n",
      " lstm_5 (LSTM)               (None, 100)               80400     \n",
      "                                                                 \n",
      " dropout_5 (Dropout)         (None, 100)               0         \n",
      "                                                                 \n",
      " dense_1 (Dense)             (None, 1)                 101       \n",
      "                                                                 \n",
      "=================================================================\n",
      "Total params: 204,501\n",
      "Trainable params: 204,501\n",
      "Non-trainable params: 0\n",
      "_________________________________________________________________\n"
     ]
    }
   ],
   "source": [
    "model.summary()"
   ]
  },
  {
   "cell_type": "code",
   "execution_count": 55,
   "metadata": {},
   "outputs": [
    {
     "name": "stdout",
     "output_type": "stream",
     "text": [
      "Epoch 1/10\n"
     ]
    },
    {
     "name": "stdout",
     "output_type": "stream",
     "text": [
      "233/243 [===========================>..] - ETA: 0s - loss: 94.7382\n",
      "Epoch 1: val_loss improved from inf to 138.53761, saving model to best_model.h5\n",
      "243/243 [==============================] - 6s 8ms/step - loss: 94.5862 - val_loss: 138.5376\n",
      "Epoch 2/10\n",
      "235/243 [============================>.] - ETA: 0s - loss: 72.1729\n",
      "Epoch 2: val_loss improved from 138.53761 to 119.59119, saving model to best_model.h5\n",
      "243/243 [==============================] - 1s 4ms/step - loss: 72.1483 - val_loss: 119.5912\n",
      "Epoch 3/10\n",
      "235/243 [============================>.] - ETA: 0s - loss: 58.4463\n",
      "Epoch 3: val_loss improved from 119.59119 to 105.92062, saving model to best_model.h5\n",
      "243/243 [==============================] - 1s 4ms/step - loss: 58.4538 - val_loss: 105.9206\n",
      "Epoch 4/10\n",
      "238/243 [============================>.] - ETA: 0s - loss: 51.2587\n",
      "Epoch 4: val_loss improved from 105.92062 to 94.85057, saving model to best_model.h5\n",
      "243/243 [==============================] - 1s 5ms/step - loss: 51.1755 - val_loss: 94.8506\n",
      "Epoch 5/10\n",
      "236/243 [============================>.] - ETA: 0s - loss: 46.6328\n",
      "Epoch 5: val_loss improved from 94.85057 to 85.93012, saving model to best_model.h5\n",
      "243/243 [==============================] - 1s 5ms/step - loss: 46.6151 - val_loss: 85.9301\n",
      "Epoch 6/10\n",
      "238/243 [============================>.] - ETA: 0s - loss: 44.0479\n",
      "Epoch 6: val_loss improved from 85.93012 to 78.48156, saving model to best_model.h5\n",
      "243/243 [==============================] - 1s 4ms/step - loss: 43.9223 - val_loss: 78.4816\n",
      "Epoch 7/10\n",
      "234/243 [===========================>..] - ETA: 0s - loss: 41.6719\n",
      "Epoch 7: val_loss improved from 78.48156 to 71.40577, saving model to best_model.h5\n",
      "243/243 [==============================] - 1s 5ms/step - loss: 41.7171 - val_loss: 71.4058\n",
      "Epoch 8/10\n",
      "235/243 [============================>.] - ETA: 0s - loss: 40.1455\n",
      "Epoch 8: val_loss improved from 71.40577 to 65.01248, saving model to best_model.h5\n",
      "243/243 [==============================] - 1s 5ms/step - loss: 40.1782 - val_loss: 65.0125\n",
      "Epoch 9/10\n",
      "241/243 [============================>.] - ETA: 0s - loss: 38.8026\n",
      "Epoch 9: val_loss improved from 65.01248 to 59.00204, saving model to best_model.h5\n",
      "243/243 [==============================] - 1s 4ms/step - loss: 38.8257 - val_loss: 59.0020\n",
      "Epoch 10/10\n",
      "232/243 [===========================>..] - ETA: 0s - loss: 38.1238\n",
      "Epoch 10: val_loss improved from 59.00204 to 53.93011, saving model to best_model.h5\n",
      "243/243 [==============================] - 1s 4ms/step - loss: 37.9001 - val_loss: 53.9301\n"
     ]
    }
   ],
   "source": [
    "# train the model\n",
    "from keras.callbacks import ModelCheckpoint\n",
    "\n",
    "checkpoint = ModelCheckpoint('best_model.h5', monitor='val_loss', save_best_only=True, mode='min', verbose=1)\n",
    "\n",
    "model_his = model.fit(X_train, y_train, epochs=10, batch_size=4, validation_data=(X_test, y_test), verbose=1, callbacks=[checkpoint])"
   ]
  },
  {
   "cell_type": "code",
   "execution_count": 56,
   "metadata": {},
   "outputs": [
    {
     "data": {
      "image/png": "[encoded data removed]",
      "text/plain": [
       "<Figure size 432x288 with 1 Axes>"
      ]
     },
     "metadata": {
      "needs_background": "light"
     },
     "output_type": "display_data"
    }
   ],
   "source": [
    "import matplotlib.pyplot as plt\n",
    "\n",
    "# Plot the training loss\n",
    "plt.plot(model_his.history['loss'], label='Training Loss')\n",
    "plt.plot(model_his.history['val_loss'], label='Validation Loss')\n",
    "plt.xlabel('Epoch')\n",
    "plt.ylabel('Loss')\n",
    "plt.legend()\n",
    "plt.show()"
   ]
  },
  {
   "cell_type": "code",
   "execution_count": 57,
   "metadata": {},
   "outputs": [],
   "source": [
    "preds = model.predict(X_test)"
   ]
  },
  {
   "cell_type": "code",
   "execution_count": 58,
   "metadata": {},
   "outputs": [],
   "source": [
    "# inverse transform eklenecek"
   ]
  },
  {
   "cell_type": "code",
   "execution_count": 59,
   "metadata": {},
   "outputs": [
    {
     "ename": "AttributeError",
     "evalue": "'MinMaxScaler' object has no attribute 'data_min_'",
     "output_type": "error",
     "traceback": [
      "\u001b[1;31m---------------------------------------------------------------------------\u001b[0m",
      "\u001b[1;31mAttributeError\u001b[0m                            Traceback (most recent call last)",
      "\u001b[1;32m~\\AppData\\Local\\Temp/ipykernel_4252/4199572310.py\u001b[0m in \u001b[0;36m<module>\u001b[1;34m\u001b[0m\n\u001b[1;32m----> 1\u001b[1;33m \u001b[0mmin_values\u001b[0m \u001b[1;33m=\u001b[0m \u001b[0mscaler\u001b[0m\u001b[1;33m.\u001b[0m\u001b[0mdata_min_\u001b[0m\u001b[1;33m\u001b[0m\u001b[1;33m\u001b[0m\u001b[0m\n\u001b[0m\u001b[0;32m      2\u001b[0m \u001b[0mmax_values\u001b[0m \u001b[1;33m=\u001b[0m \u001b[0mscaler\u001b[0m\u001b[1;33m.\u001b[0m\u001b[0mdata_max_\u001b[0m\u001b[1;33m\u001b[0m\u001b[1;33m\u001b[0m\u001b[0m\n\u001b[0;32m      3\u001b[0m \u001b[0mdata_range\u001b[0m \u001b[1;33m=\u001b[0m \u001b[0mscaler\u001b[0m\u001b[1;33m.\u001b[0m\u001b[0mdata_range_\u001b[0m\u001b[1;33m\u001b[0m\u001b[1;33m\u001b[0m\u001b[0m\n",
      "\u001b[1;31mAttributeError\u001b[0m: 'MinMaxScaler' object has no attribute 'data_min_'"
     ]
    }
   ],
   "source": [
    "# min_values = scaler.data_min_\n",
    "# max_values = scaler.data_max_\n",
    "# data_range = scaler.data_range_"
   ]
  },
  {
   "cell_type": "code",
   "execution_count": 60,
   "metadata": {},
   "outputs": [],
   "source": [
    "import matplotlib.pyplot as plt\n",
    "import numpy as np"
   ]
  },
  {
   "cell_type": "code",
   "execution_count": 61,
   "metadata": {},
   "outputs": [
    {
     "data": {
      "image/png": "[encoded data removed]",
      "text/plain": [
       "<Figure size 1440x1440 with 1 Axes>"
      ]
     },
     "metadata": {
      "needs_background": "light"
     },
     "output_type": "display_data"
    }
   ],
   "source": [
    "# X eksenindeki değerler\n",
    "x_values = np.arange(len(preds))\n",
    "\n",
    "\n",
    "plt.figure(figsize=(20, 20))\n",
    "\n",
    "\n",
    "# Çizgi grafikleri oluştur\n",
    "plt.plot(x_values, preds, label='Predictions', marker='o')\n",
    "plt.plot(x_values, y_test, label='Actual', marker='o')\n",
    "\n",
    "# Eksen etiketleri\n",
    "plt.xlabel('Örnek Numarası')\n",
    "plt.ylabel('Değerler')\n",
    "\n",
    "# Başlık\n",
    "plt.title('Predictions vs Actuals')\n",
    "\n",
    "# İlgili yeri göster\n",
    "plt.legend()\n",
    "\n",
    "plt.savefig('example_plot.png')\n",
    "\n",
    "# Grafik göster\n",
    "plt.show()"
   ]
  },
  {
   "cell_type": "code",
   "execution_count": 62,
   "metadata": {},
   "outputs": [
    {
     "name": "stdout",
     "output_type": "stream",
     "text": [
      "Mean absolute error : 53.930113647209765\n"
     ]
    }
   ],
   "source": [
    "from sklearn.metrics import mean_absolute_error as mae\n",
    "\n",
    "# calculate MAE \n",
    "error = mae(preds, y_test) \n",
    "  \n",
    "# display \n",
    "print(\"Mean absolute error : \" + str(error)) "
   ]
  },
  {
   "cell_type": "code",
   "execution_count": 63,
   "metadata": {},
   "outputs": [
    {
     "name": "stdout",
     "output_type": "stream",
     "text": [
      "Mean absolute error : 0.4674606588484457\n"
     ]
    }
   ],
   "source": [
    "from sklearn.metrics import mean_absolute_percentage_error\n",
    "\n",
    "error = mean_absolute_percentage_error(preds, y_test)\n",
    "print(\"Mean absolute error : \" + str(error)) "
   ]
  },
  {
   "cell_type": "code",
   "execution_count": 64,
   "metadata": {},
   "outputs": [
    {
     "name": "stdout",
     "output_type": "stream",
     "text": [
      "[115.36824] [134.50999451]\n",
      "[115.36824] [132.36999512]\n",
      "[115.36824] [132.30000305]\n",
      "[115.36824] [135.44999695]\n",
      "[115.36824] [132.22999573]\n",
      "[115.36824] [131.86000061]\n",
      "[115.36824] [130.02999878]\n",
      "[115.36824] [126.04000092]\n",
      "[115.36824] [129.61000061]\n",
      "[115.36824] [129.92999268]\n",
      "[115.36824] [125.06999969]\n",
      "[115.36824] [126.36000061]\n",
      "[115.36824] [125.01999664]\n",
      "[115.36824] [129.61999512]\n",
      "[115.36824] [130.1499939]\n",
      "[115.36824] [130.72999573]\n",
      "[115.36824] [133.49000549]\n",
      "[115.36824] [133.41000366]\n",
      "[115.36824] [134.75999451]\n",
      "[115.36824] [135.94000244]\n",
      "[115.36824] [135.21000671]\n",
      "[115.36824] [135.27000427]\n",
      "[115.36824] [137.86999512]\n",
      "[115.36824] [141.11000061]\n",
      "[115.36824] [142.52999878]\n",
      "[115.36824] [141.86000061]\n",
      "[115.36824] [143.96000671]\n",
      "[115.36824] [145.92999268]\n",
      "[115.36824] [143.]\n",
      "[115.36824] [144.28999329]\n",
      "[115.36824] [145.42999268]\n",
      "[115.36824] [150.82000732]\n",
      "[115.36824] [154.5]\n",
      "[115.36824] [151.72999573]\n",
      "[115.36824] [154.6499939]\n",
      "[115.36824] [151.91999817]\n",
      "[115.36824] [150.86999512]\n",
      "[115.36824] [151.00999451]\n",
      "[115.36824] [153.8500061]\n",
      "[115.36824] [153.19999695]\n",
      "[115.36824] [155.33000183]\n",
      "[115.36824] [153.71000671]\n",
      "[115.36824] [152.55000305]\n",
      "[115.36824] [148.47999573]\n",
      "[115.36824] [148.91000366]\n",
      "[115.36824] [149.3999939]\n",
      "[115.36824] [146.71000671]\n",
      "[115.36824] [147.91999817]\n",
      "[115.36824] [147.41000366]\n",
      "[115.36824] [145.30999756]\n",
      "[115.36824] [145.91000366]\n",
      "[115.36824] [151.02999878]\n",
      "[115.36824] [153.83000183]\n",
      "[115.36824] [151.6000061]\n",
      "[115.36824] [152.86999512]\n",
      "[115.36824] [150.58999634]\n",
      "[115.36824] [148.5]\n",
      "[115.36824] [150.47000122]\n",
      "[115.36824] [152.58999634]\n",
      "[115.36824] [152.99000549]\n",
      "[115.36824] [155.8500061]\n",
      "[115.36824] [155.]\n",
      "[115.36824] [157.3999939]\n",
      "[115.36824] [159.27999878]\n",
      "[115.36824] [157.83000183]\n",
      "[115.36824] [158.92999268]\n",
      "[115.36824] [160.25]\n",
      "[115.36824] [158.27999878]\n",
      "[115.36824] [157.6499939]\n",
      "[115.36824] [160.77000427]\n",
      "[115.36824] [162.36000061]\n",
      "[115.36824] [164.8999939]\n",
      "[115.36824] [166.16999817]\n",
      "[115.36824] [165.63000488]\n",
      "[115.36824] [163.75999451]\n",
      "[115.36824] [164.66000366]\n",
      "[115.36824] [162.02999878]\n",
      "[115.36824] [160.80000305]\n",
      "[115.36824] [160.1000061]\n",
      "[115.36824] [165.55999756]\n",
      "[115.36824] [165.21000671]\n",
      "[115.36824] [165.22999573]\n",
      "[115.36824] [166.47000122]\n",
      "[115.36824] [167.63000488]\n",
      "[115.36824] [166.6499939]\n",
      "[115.36824] [165.02000427]\n",
      "[115.36824] [165.33000183]\n",
      "[115.36824] [163.77000427]\n",
      "[115.36824] [163.75999451]\n",
      "[115.36824] [168.41000366]\n",
      "[115.36824] [169.67999268]\n",
      "[115.36824] [169.58999634]\n",
      "[115.36824] [168.53999329]\n",
      "[115.36824] [167.44999695]\n",
      "[115.36824] [165.78999329]\n",
      "[115.36824] [173.57000732]\n",
      "[115.36824] [173.5]\n",
      "[115.36824] [171.77000427]\n",
      "[115.36824] [173.55999756]\n",
      "[115.36824] [173.75]\n",
      "[115.36824] [172.57000732]\n",
      "[115.36824] [172.07000732]\n",
      "[115.36824] [172.07000732]\n",
      "[115.36824] [172.69000244]\n",
      "[115.36824] [175.05000305]\n",
      "[115.36824] [175.16000366]\n",
      "[115.36824] [174.19999695]\n",
      "[115.36824] [171.55999756]\n",
      "[115.36824] [171.83999634]\n",
      "[115.36824] [172.99000549]\n",
      "[115.36824] [175.42999268]\n",
      "[115.36824] [177.30000305]\n",
      "[115.36824] [177.25]\n",
      "[115.36824] [180.08999634]\n",
      "[115.36824] [180.94999695]\n",
      "[115.36824] [179.58000183]\n",
      "[115.36824] [179.21000671]\n",
      "[115.36824] [177.82000732]\n",
      "[115.36824] [180.57000732]\n",
      "[115.36824] [180.96000671]\n",
      "[115.36824] [183.78999329]\n",
      "[115.36824] [183.30999756]\n",
      "[115.36824] [183.94999695]\n",
      "[115.36824] [186.00999451]\n",
      "[115.36824] [184.91999817]\n",
      "[115.36824] [185.00999451]\n",
      "[115.36824] [183.96000671]\n",
      "[115.36824] [187.]\n",
      "[115.36824] [186.67999268]\n",
      "[115.36824] [185.27000427]\n",
      "[115.36824] [188.05999756]\n",
      "[115.36824] [189.25]\n",
      "[115.36824] [189.58999634]\n",
      "[115.36824] [193.97000122]\n",
      "[115.36824] [192.46000671]\n",
      "[115.36824] [191.33000183]\n",
      "[115.36824] [191.80999756]\n",
      "[115.36824] [190.67999268]\n",
      "[115.36824] [188.61000061]\n",
      "[115.36824] [188.08000183]\n",
      "[115.36824] [189.77000427]\n",
      "[115.36824] [190.53999329]\n",
      "[115.36824] [190.69000244]\n",
      "[115.36824] [193.99000549]\n",
      "[115.36824] [193.72999573]\n",
      "[115.36824] [195.1000061]\n",
      "[115.36824] [193.13000488]\n",
      "[115.36824] [191.94000244]\n",
      "[115.36824] [192.75]\n",
      "[115.36824] [193.61999512]\n",
      "[115.36824] [194.5]\n",
      "[115.36824] [193.22000122]\n",
      "[115.36824] [195.83000183]\n",
      "[115.36824] [196.44999695]\n",
      "[115.36824] [195.61000061]\n",
      "[115.36824] [192.58000183]\n",
      "[115.36824] [191.16999817]\n",
      "[115.36824] [181.99000549]\n",
      "[115.36824] [178.8500061]\n",
      "[115.36824] [179.80000305]\n",
      "[115.36824] [178.19000244]\n",
      "[115.36824] [177.97000122]\n",
      "[115.36824] [177.78999329]\n",
      "[115.36824] [179.46000671]\n",
      "[115.36824] [177.44999695]\n",
      "[115.36824] [176.57000732]\n",
      "[115.36824] [174.]\n",
      "[115.36824] [174.49000549]\n",
      "[115.36824] [175.83999634]\n",
      "[115.36824] [177.22999573]\n",
      "[115.36824] [181.11999512]\n",
      "[115.36824] [176.38000488]\n",
      "[115.36824] [178.61000061]\n",
      "[115.36824] [180.19000244]\n",
      "[115.36824] [184.11999512]\n",
      "[115.36824] [187.6499939]\n",
      "[115.36824] [187.86999512]\n",
      "[115.36824] [189.46000671]\n",
      "[115.36824] [189.69999695]\n",
      "[115.36824] [182.91000366]\n",
      "[115.36824] [177.55999756]\n",
      "[115.36824] [178.17999268]\n",
      "[115.36824] [179.36000061]\n",
      "[115.36824] [176.30000305]\n",
      "[115.36824] [174.21000671]\n",
      "[115.36824] [175.74000549]\n",
      "[115.36824] [175.00999451]\n",
      "[115.36824] [177.97000122]\n",
      "[115.36824] [179.07000732]\n",
      "[115.36824] [175.49000549]\n",
      "[115.36824] [173.92999268]\n",
      "[115.36824] [174.78999329]\n",
      "[115.36824] [176.08000183]\n",
      "[115.36824] [171.96000671]\n",
      "[115.36824] [170.42999268]\n",
      "[115.36824] [170.69000244]\n",
      "[115.36824] [171.21000671]\n",
      "[115.36824] [173.75]\n",
      "[115.36824] [172.3999939]\n",
      "[115.36824] [173.66000366]\n",
      "[115.36824] [174.91000366]\n",
      "[115.36824] [177.49000549]\n",
      "[115.36824] [178.99000549]\n",
      "[115.36824] [178.38999939]\n",
      "[115.36824] [179.80000305]\n",
      "[115.36824] [180.71000671]\n",
      "[115.36824] [178.8500061]\n",
      "[115.36824] [178.72000122]\n",
      "[115.36824] [177.1499939]\n",
      "[115.36824] [175.83999634]\n",
      "[115.36824] [175.46000671]\n",
      "[115.36824] [172.88000488]\n",
      "[115.36824] [173.]\n",
      "[115.36824] [173.44000244]\n",
      "[115.36824] [171.1000061]\n",
      "[115.36824] [166.88999939]\n",
      "[115.36824] [168.22000122]\n",
      "[115.36824] [170.28999329]\n",
      "[115.36824] [170.77000427]\n",
      "[115.36824] [173.97000122]\n",
      "[115.36824] [177.57000732]\n",
      "[115.36824] [176.6499939]\n",
      "[115.36824] [179.22999573]\n",
      "[115.36824] [181.82000732]\n",
      "[115.36824] [182.88999939]\n",
      "[115.36824] [182.41000366]\n",
      "[115.36824] [186.3999939]\n",
      "[115.36824] [184.80000305]\n",
      "[115.36824] [187.44000244]\n",
      "[115.36824] [188.00999451]\n",
      "[115.36824] [189.71000671]\n",
      "[115.36824] [189.69000244]\n",
      "[115.36824] [191.44999695]\n",
      "[115.36824] [190.63999939]\n",
      "[115.36824] [191.30999756]\n",
      "[115.36824] [189.97000122]\n",
      "[115.36824] [189.78999329]\n",
      "[115.36824] [190.3999939]\n",
      "[115.36824] [189.36999512]\n",
      "[115.36824] [189.94999695]\n",
      "[115.36824] [191.24000549]\n",
      "[115.36824] [189.42999268]\n",
      "[115.36824] [193.41999817]\n"
     ]
    }
   ],
   "source": [
    "for index, value in enumerate(preds):\n",
    "    print(value, y_test[index])"
   ]
  }
 ],
 "metadata": {
  "kernelspec": {
   "display_name": "Python 3",
   "language": "python",
   "name": "python3"
  },
  "language_info": {
   "codemirror_mode": {
    "name": "ipython",
    "version": 3
   },
   "file_extension": ".py",
   "mimetype": "text/x-python",
   "name": "python",
   "nbconvert_exporter": "python",
   "pygments_lexer": "ipython3",
   "version": "3.8.5"
  }
 },
 "nbformat": 4,
 "nbformat_minor": 2
}
